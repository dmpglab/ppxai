{
 "cells": [
  {
   "cell_type": "code",
   "execution_count": null,
   "id": "3cabfc72",
   "metadata": {},
   "outputs": [],
   "source": [
    "#Date: Dec 11, 2024\n",
    "#Author: Sonal Allana\n",
    "#Purpose: To add random noise in postmodel. Calibrated noise is added offline. \n",
    "#Attribute inference attack is performed on the explanations."
   ]
  },
  {
   "cell_type": "code",
   "execution_count": 1,
   "id": "6dda25c1",
   "metadata": {},
   "outputs": [
    {
     "name": "stderr",
     "output_type": "stream",
     "text": [
      "2024-10-29 12:42:50.643400: I tensorflow/core/platform/cpu_feature_guard.cc:182] This TensorFlow binary is optimized to use available CPU instructions in performance-critical operations.\n",
      "To enable the following instructions: AVX2 AVX512F AVX512_VNNI FMA, in other operations, rebuild TensorFlow with the appropriate compiler flags.\n"
     ]
    }
   ],
   "source": [
    "import numpy as np\n",
    "from numpy import loadtxt\n",
    "from numpy import savetxt\n",
    "import tensorflow as tf\n",
    "import os\n",
    "import miattack\n",
    "import xaimetrics"
   ]
  },
  {
   "cell_type": "code",
   "execution_count": 2,
   "id": "6f361eb0",
   "metadata": {},
   "outputs": [],
   "source": [
    "base_folder = \"baseline_nn\"\n",
    "    "
   ]
  },
  {
   "cell_type": "code",
   "execution_count": 3,
   "id": "15bcecb5",
   "metadata": {},
   "outputs": [],
   "source": [
    "#Options (1) adult (2) credit (3) compas (4) hospital\n",
    "dataset_name = \"compas\"\n"
   ]
  },
  {
   "cell_type": "code",
   "execution_count": 4,
   "id": "68ea4428",
   "metadata": {},
   "outputs": [],
   "source": [
    "#Uncomment for integrated gradient\n",
    "#expl = \"integrated_gradients\"\n",
    "#expl_folder = \"ig\"\n",
    "#end integrated gradient\n",
    "\n",
    "#Uncomment for smoothgrad\n",
    "expl = \"smoothgrad\"\n",
    "expl_folder = \"sg\"\n",
    "#end smoothgrad\n",
    "\n",
    "#Uncomment for SHAP\n",
    "#expl = \"shap\"\n",
    "#expl_folder = \"shap\"\n",
    "#end shap\n",
    "\n",
    "#Uncomment for LIME\n",
    "#expl = \"lime\"\n",
    "#expl_folder = \"lime\"\n",
    "#end shap"
   ]
  },
  {
   "cell_type": "code",
   "execution_count": 5,
   "id": "ac3a6753",
   "metadata": {},
   "outputs": [],
   "source": [
    "noise_category = \"dp\" #Options (1) random (2) dp\n",
    "noise_type = \"laplace\" #Options (1) laplace (2) gaussian (3) random (not applicable for noise_category = dp)\n"
   ]
  },
  {
   "cell_type": "code",
   "execution_count": 7,
   "id": "ea41302d",
   "metadata": {},
   "outputs": [
    {
     "name": "stdout",
     "output_type": "stream",
     "text": [
      "Model: \"model_1\"\n",
      "_________________________________________________________________\n",
      " Layer (type)                Output Shape              Param #   \n",
      "=================================================================\n",
      " input_layer (InputLayer)    [(None, 10)]              0         \n",
      "                                                                 \n",
      " dense1 (Dense)              (None, 40)                440       \n",
      "                                                                 \n",
      " dense2 (Dense)              (None, 40)                1640      \n",
      "                                                                 \n",
      " dense_1 (Dense)             (None, 1)                 41        \n",
      "                                                                 \n",
      "=================================================================\n",
      "Total params: 2121 (8.29 KB)\n",
      "Trainable params: 2121 (8.29 KB)\n",
      "Non-trainable params: 0 (0.00 Byte)\n",
      "_________________________________________________________________\n",
      "DP noise evaluations\n",
      "attributions_train:  (1140, 10)\n",
      "attributions_test:  (1140, 10)\n",
      "Iteration  2 :\n",
      "Precision: 0.7951\n",
      "Recall: 0.7056\n",
      "F1-Score: 0.7477\n",
      "FPR: 0.7778\n",
      "Attacker's advantage: -0.0722\n",
      "Attack success: 61.40%\n",
      "Precision: 0.3801\n",
      "Recall: 0.2111\n",
      "F1-Score: 0.2714\n",
      "FPR: 0.1846\n",
      "Attacker's advantage: 0.0264\n",
      "Attack success: 60.44%\n"
     ]
    }
   ],
   "source": [
    "for i in range(2,3):\n",
    "    #Load train-test files\n",
    "    basepath = \"../models/{0}/{1}/iter{2}/\".format(base_folder,dataset_name,i)\n",
    "    fmodel = \"model_wodp_iter{0}.keras\".format(i)\n",
    "    model = tf.keras.models.load_model(basepath + fmodel,compile=False)\n",
    "    model.summary()\n",
    "\n",
    "    X_adv_train = loadtxt(basepath + expl_folder + '/X_adv_train.csv',delimiter=',')\n",
    "    X_adv_test = loadtxt(basepath + expl_folder + '/X_adv_test.csv',delimiter=',')\n",
    "    Y_adv_train = loadtxt(basepath + expl_folder + '/Y_adv_train.csv',delimiter=',')\n",
    "    Y_adv_test = loadtxt(basepath + expl_folder + '/Y_adv_test.csv',delimiter=',')\n",
    "    Z_adv_train = loadtxt(basepath + expl_folder + '/Z_adv_train.csv',delimiter=',')\n",
    "    Z_adv_test = loadtxt(basepath + expl_folder + '/Z_adv_test.csv',delimiter=',')\n",
    "    attributions_train = loadtxt(basepath + expl_folder + '/attributions_train.csv',delimiter=',')\n",
    "    attributions_test = loadtxt(basepath + expl_folder + '/attributions_test.csv',delimiter=',')\n",
    "\n",
    "    if noise_category == \"random\":  \n",
    "        #generate random noise\n",
    "        if noise_type == \"laplace\":\n",
    "            b = np.random.randint(0,1000,1)\n",
    "            noisetrain = np.random.laplace(0,b, np.shape(attributions_train))\n",
    "            noisetest = np.random.laplace(0,b, np.shape(attributions_test))        \n",
    "        elif noise_type == \"gaussian\":   \n",
    "            sd = np.random.randint(1000,2000,1)\n",
    "            noisetrain = np.random.normal(0,sd, np.shape(attributions_train))\n",
    "            noisetest = np.random.normal(0,sd, np.shape(attributions_test))\n",
    "        elif noise_type == \"random\":\n",
    "            print(\"random generation\")\n",
    "            noisetrain = np.random.random(size = np.shape(attributions_train))\n",
    "            noisetest = np.random.random(size = np.shape(attributions_test))\n",
    "        #adding random noise to attributions\n",
    "        attributions_train = attributions_train + noisetrain\n",
    "        attributions_test = attributions_test + noisetest\n",
    "\n",
    "        savetxt(basepath + expl_folder + '/attrs_train_rand_rand_{0}.csv'.format(noise_type),attributions_train,delimiter=',')\n",
    "        savetxt(basepath + expl_folder + '/attrs_test_rand_rand_{0}.csv'.format(noise_type),attributions_test,delimiter=',')\n",
    "\n",
    "    else:\n",
    "        print(\"DP noise evaluations\")\n",
    "        attributions_train = loadtxt(basepath + expl_folder + '/attrs_train_dp_{0}.csv'.format(noise_type),delimiter=',')\n",
    "        attributions_test = loadtxt(basepath + expl_folder + '/attrs_test_dp_{0}.csv'.format(noise_type),delimiter=',')\n",
    "        print(\"attributions_train: \", np.shape(attributions_train))\n",
    "        print(\"attributions_test: \",np.shape(attributions_test))\n",
    "    \n",
    "    print(\"Iteration \",i,\":\")\n",
    "\n",
    "    #Attack the first sensitive attribute\n",
    "    Z_adv_train_s1 = Z_adv_train[:,0]\n",
    "    Z_adv_test_s1 = Z_adv_test[:,0]\n",
    "    modinv_obj1 = miattack.miattack_explanations(attributions_train,attributions_test,Z_adv_train_s1,Z_adv_test_s1)\n",
    "    modinv_obj1.printMetrics()\n",
    "\n",
    "    #Attack the second sensitive attribute\n",
    "    Z_adv_train_s2 = Z_adv_train[:,1]\n",
    "    Z_adv_test_s2 = Z_adv_test[:,1]\n",
    "    modinv_obj2 = miattack.miattack_explanations(attributions_train,attributions_test,Z_adv_train_s2,Z_adv_test_s2)\n",
    "    modinv_obj2.printMetrics()"
   ]
  },
  {
   "cell_type": "code",
   "execution_count": null,
   "id": "fc90ac05",
   "metadata": {},
   "outputs": [],
   "source": []
  },
  {
   "cell_type": "code",
   "execution_count": null,
   "id": "1c068dda",
   "metadata": {},
   "outputs": [],
   "source": []
  }
 ],
 "metadata": {
  "kernelspec": {
   "display_name": "Python 3 (ipykernel)",
   "language": "python",
   "name": "python3"
  },
  "language_info": {
   "codemirror_mode": {
    "name": "ipython",
    "version": 3
   },
   "file_extension": ".py",
   "mimetype": "text/x-python",
   "name": "python",
   "nbconvert_exporter": "python",
   "pygments_lexer": "ipython3",
   "version": "3.11.5"
  }
 },
 "nbformat": 4,
 "nbformat_minor": 5
}
