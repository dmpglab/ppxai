{
 "cells": [
  {
   "cell_type": "code",
   "execution_count": null,
   "id": "ce20f85a-d80c-49cc-a79a-e9a77403ee74",
   "metadata": {},
   "outputs": [],
   "source": [
    "#Date: Dec 11, 2024\n",
    "#Author: Sonal Allana\n",
    "#Purpose: This notebook converts the input dataset into its synthetic version using Synthetic Data Vault (SDV)\n",
    "#Documentation https://sdv.dev/\n",
    "#SmartNoise requires python 3.8 - 3.11"
   ]
  },
  {
   "cell_type": "code",
   "execution_count": null,
   "id": "cd727a5c",
   "metadata": {},
   "outputs": [],
   "source": [
    "#!pip install sdv\n",
    "#!pip install backports.tarfile"
   ]
  },
  {
   "cell_type": "code",
   "execution_count": 1,
   "id": "be52867d",
   "metadata": {},
   "outputs": [],
   "source": [
    "from sdv.single_table import CTGANSynthesizer, GaussianCopulaSynthesizer, TVAESynthesizer\n",
    "from sdv.metadata import SingleTableMetadata\n",
    "import numpy as np\n",
    "import pandas as pd\n",
    "import sdv as sd\n",
    "import time"
   ]
  },
  {
   "cell_type": "code",
   "execution_count": 2,
   "id": "cd63d909",
   "metadata": {},
   "outputs": [],
   "source": [
    "#Options (1) adult (2) credit (3) compas (4) hospital\n",
    "dataset_name = \"hospital\"\n"
   ]
  },
  {
   "cell_type": "code",
   "execution_count": 3,
   "id": "4b162f50-22b7-42bb-9f30-d7ca7f0ed04e",
   "metadata": {},
   "outputs": [],
   "source": [
    "#Get preprocessed dataset\n",
    "fname = '{0}_preprocessed.csv'.format(dataset_name)\n",
    "    \n",
    "if dataset_name == \"hospital\":\n",
    "    data = pd.read_csv('../datasets/{0}'.format(fname), sep=',', engine='python', na_values='?',nrows=30000)\n",
    "else:\n",
    "    data = pd.read_csv('../datasets/{0}'.format(fname), sep=',', engine='python', na_values='?')\n"
   ]
  },
  {
   "cell_type": "code",
   "execution_count": 4,
   "id": "2ebae271",
   "metadata": {},
   "outputs": [],
   "source": [
    "#Set the parameters here\n",
    "bMetdataExists = True\n",
    "#Options (1) ctgan (2) gausscopula (3) tvae \n",
    "syndataType = \"gausscopula\"\n"
   ]
  },
  {
   "cell_type": "code",
   "execution_count": 5,
   "id": "547cb861",
   "metadata": {},
   "outputs": [],
   "source": [
    "if bMetdataExists:\n",
    "#if exists then load from metadata file    \n",
    "    metadata = SingleTableMetadata.load_from_json(\n",
    "    filepath='../datasets/{0}_metadata.json'.format(dataset_name))\n",
    "else:\n",
    "#Auto generate metadata for the table\n",
    "#https://docs.sdv.dev/sdv/single-table-data/data-preparation/single-table-metadata-api\n",
    "    metadata = SingleTableMetadata()\n",
    "    metadata.detect_from_dataframe(data)\n",
    "    \n",
    "    #Clean metadata  \n",
    "    if dataset_name == \"adult\":\n",
    "        metadata.remove_primary_key()\n",
    "\n",
    "        #Change workclass_State-gov to categorical\n",
    "        metadata.update_column(\n",
    "        column_name = 'workclass_State-gov',\n",
    "        sdtype = 'categorical') #pii when True means column is sensitive and its values should not be used in synthetic data\n",
    "\n",
    "        #Change race and sex to int\n",
    "        metadata.update_column(\n",
    "        column_name = 'race',\n",
    "        sdtype = 'numerical',\n",
    "        computer_representation = 'Int64')\n",
    "\n",
    "        metadata.update_column(\n",
    "        column_name = 'sex',\n",
    "        sdtype = 'numerical',\n",
    "        computer_representation = 'Int64')\n",
    "\n",
    "        metadata.update_column(\n",
    "        column_name = 'class',\n",
    "        sdtype = 'numerical',\n",
    "        computer_representation = 'Int64')\n",
    "\n",
    "    elif dataset_name == \"credit\":\n",
    "        #Change age and sex to int\n",
    "        metadata.update_column(\n",
    "        column_name = 'AGE',\n",
    "        sdtype = 'numerical',\n",
    "        computer_representation = 'Int64')\n",
    "\n",
    "        metadata.update_column(\n",
    "        column_name = 'SEX',\n",
    "        sdtype = 'numerical',\n",
    "        computer_representation = 'Int64')   \n",
    "\n",
    "        metadata.update_column(\n",
    "        column_name = 'default.payment.next.month',\n",
    "        sdtype = 'numerical',\n",
    "        computer_representation = 'Int64') \n",
    "\n",
    "    elif dataset_name == 'compas':\n",
    "        #Change race and sex to int\n",
    "        metadata.update_column(\n",
    "        column_name = 'race',\n",
    "        sdtype = 'numerical',\n",
    "        computer_representation = 'Int64')\n",
    "\n",
    "        metadata.update_column(\n",
    "        column_name = 'sex',\n",
    "        sdtype = 'numerical',\n",
    "        computer_representation = 'Int64')   \n",
    "\n",
    "        metadata.update_column(\n",
    "        column_name = 'juv_misd_count',\n",
    "        sdtype = 'numerical',\n",
    "        computer_representation = 'Int64') \n",
    "\n",
    "        metadata.update_column(\n",
    "        column_name = 'juv_other_count',\n",
    "        sdtype = 'numerical',\n",
    "        computer_representation = 'Int64')\n",
    "\n",
    "        metadata.update_column(\n",
    "        column_name = 'is_recid',\n",
    "        sdtype = 'numerical',\n",
    "        computer_representation = 'Int64') \n",
    "\n",
    "        metadata.update_column(\n",
    "        column_name = 'decile_score',\n",
    "        sdtype = 'numerical',\n",
    "        computer_representation = 'Int64') \n",
    "\n",
    "        metadata.update_column(\n",
    "        column_name = 'c_charge_degree_M',\n",
    "        sdtype = 'numerical',\n",
    "        computer_representation = 'Int64') \n",
    "\n",
    "    elif dataset_name == \"hospital\":\n",
    "        #Change race and gender to int\n",
    "        metadata.update_column(\n",
    "        column_name = 'race',\n",
    "        sdtype = 'numerical',\n",
    "        computer_representation = 'Int64')\n",
    "\n",
    "        metadata.update_column(\n",
    "        column_name = 'gender',\n",
    "        sdtype = 'numerical',\n",
    "        computer_representation = 'Int64')     \n",
    "\n",
    "        metadata.update_column(\n",
    "        column_name = 'readmitted',\n",
    "        sdtype = 'numerical',\n",
    "        computer_representation = 'Int64')\n",
    "\n",
    "        metadata.update_column(\n",
    "        column_name = 'num_procedures',\n",
    "        sdtype = 'numerical',\n",
    "        computer_representation = 'Int64')\n",
    "\n",
    "        metadata.update_column(\n",
    "        column_name = 'number_diagnoses',\n",
    "        sdtype = 'numerical',\n",
    "        computer_representation = 'Int64')\n",
    "\n"
   ]
  },
  {
   "cell_type": "code",
   "execution_count": 6,
   "id": "462f7755",
   "metadata": {},
   "outputs": [
    {
     "name": "stdout",
     "output_type": "stream",
     "text": [
      "{'METADATA_SPEC_VERSION': 'SINGLE_TABLE_V1', 'columns': {'race': {'sdtype': 'numerical', 'computer_representation': 'Int64'}, 'gender': {'sdtype': 'numerical', 'computer_representation': 'Int64'}, 'time_in_hospital': {'sdtype': 'numerical'}, 'num_lab_procedures': {'sdtype': 'numerical'}, 'num_procedures': {'sdtype': 'numerical', 'computer_representation': 'Int64'}, 'num_medications': {'sdtype': 'numerical'}, 'number_outpatient': {'sdtype': 'numerical'}, 'number_emergency': {'sdtype': 'numerical'}, 'number_inpatient': {'sdtype': 'numerical'}, 'number_diagnoses': {'sdtype': 'numerical', 'computer_representation': 'Int64'}, 'readmitted': {'sdtype': 'numerical', 'computer_representation': 'Int64'}, 'age_[0-10)': {'sdtype': 'categorical'}, 'age_[10-20)': {'sdtype': 'categorical'}, 'age_[20-30)': {'sdtype': 'categorical'}, 'age_[30-40)': {'sdtype': 'categorical'}, 'age_[40-50)': {'sdtype': 'categorical'}, 'age_[50-60)': {'sdtype': 'categorical'}, 'age_[60-70)': {'sdtype': 'categorical'}, 'age_[70-80)': {'sdtype': 'categorical'}, 'age_[80-90)': {'sdtype': 'categorical'}, 'age_[90-100)': {'sdtype': 'categorical'}, 'discharge_disposition_id_1': {'sdtype': 'categorical'}, 'discharge_disposition_id_2': {'sdtype': 'categorical'}, 'discharge_disposition_id_3': {'sdtype': 'categorical'}, 'discharge_disposition_id_4': {'sdtype': 'categorical'}, 'discharge_disposition_id_5': {'sdtype': 'categorical'}, 'discharge_disposition_id_6': {'sdtype': 'categorical'}, 'discharge_disposition_id_7': {'sdtype': 'categorical'}, 'discharge_disposition_id_8': {'sdtype': 'categorical'}, 'discharge_disposition_id_9': {'sdtype': 'categorical'}, 'discharge_disposition_id_10': {'sdtype': 'categorical'}, 'discharge_disposition_id_11': {'sdtype': 'categorical'}, 'discharge_disposition_id_12': {'sdtype': 'categorical'}, 'discharge_disposition_id_13': {'sdtype': 'categorical'}, 'discharge_disposition_id_14': {'sdtype': 'categorical'}, 'discharge_disposition_id_15': {'sdtype': 'categorical'}, 'discharge_disposition_id_16': {'sdtype': 'categorical'}, 'discharge_disposition_id_17': {'sdtype': 'categorical'}, 'discharge_disposition_id_18': {'sdtype': 'categorical'}, 'discharge_disposition_id_19': {'sdtype': 'categorical'}, 'discharge_disposition_id_20': {'sdtype': 'categorical'}, 'discharge_disposition_id_22': {'sdtype': 'categorical'}, 'discharge_disposition_id_23': {'sdtype': 'categorical'}, 'discharge_disposition_id_24': {'sdtype': 'categorical'}, 'discharge_disposition_id_25': {'sdtype': 'categorical'}, 'discharge_disposition_id_27': {'sdtype': 'categorical'}, 'discharge_disposition_id_28': {'sdtype': 'categorical'}, 'max_glu_serum_>200': {'sdtype': 'categorical'}, 'max_glu_serum_>300': {'sdtype': 'categorical'}, 'max_glu_serum_None': {'sdtype': 'categorical'}, 'max_glu_serum_Norm': {'sdtype': 'categorical'}, 'A1Cresult_>7': {'sdtype': 'categorical'}, 'A1Cresult_>8': {'sdtype': 'categorical'}, 'A1Cresult_None': {'sdtype': 'categorical'}, 'A1Cresult_Norm': {'sdtype': 'categorical'}, 'metformin_Down': {'sdtype': 'categorical'}, 'metformin_No': {'sdtype': 'categorical'}, 'metformin_Steady': {'sdtype': 'categorical'}, 'metformin_Up': {'sdtype': 'categorical'}, 'repaglinide_Down': {'sdtype': 'categorical'}, 'repaglinide_No': {'sdtype': 'categorical'}, 'repaglinide_Steady': {'sdtype': 'categorical'}, 'repaglinide_Up': {'sdtype': 'categorical'}, 'nateglinide_Down': {'sdtype': 'categorical'}, 'nateglinide_No': {'sdtype': 'categorical'}, 'nateglinide_Steady': {'sdtype': 'categorical'}, 'nateglinide_Up': {'sdtype': 'categorical'}, 'chlorpropamide_Down': {'sdtype': 'categorical'}, 'chlorpropamide_No': {'sdtype': 'categorical'}, 'chlorpropamide_Steady': {'sdtype': 'categorical'}, 'chlorpropamide_Up': {'sdtype': 'categorical'}, 'glimepiride_Down': {'sdtype': 'categorical'}, 'glimepiride_No': {'sdtype': 'categorical'}, 'glimepiride_Steady': {'sdtype': 'categorical'}, 'glimepiride_Up': {'sdtype': 'categorical'}, 'acetohexamide_Steady': {'sdtype': 'categorical'}, 'glipizide_Down': {'sdtype': 'categorical'}, 'glipizide_No': {'sdtype': 'categorical'}, 'glipizide_Steady': {'sdtype': 'categorical'}, 'glipizide_Up': {'sdtype': 'categorical'}, 'glyburide_Down': {'sdtype': 'categorical'}, 'glyburide_No': {'sdtype': 'categorical'}, 'glyburide_Steady': {'sdtype': 'categorical'}, 'glyburide_Up': {'sdtype': 'categorical'}, 'tolbutamide_Steady': {'sdtype': 'categorical'}, 'pioglitazone_Down': {'sdtype': 'categorical'}, 'pioglitazone_No': {'sdtype': 'categorical'}, 'pioglitazone_Steady': {'sdtype': 'categorical'}, 'pioglitazone_Up': {'sdtype': 'categorical'}, 'rosiglitazone_Down': {'sdtype': 'categorical'}, 'rosiglitazone_No': {'sdtype': 'categorical'}, 'rosiglitazone_Steady': {'sdtype': 'categorical'}, 'rosiglitazone_Up': {'sdtype': 'categorical'}, 'acarbose_Down': {'sdtype': 'categorical'}, 'acarbose_No': {'sdtype': 'categorical'}, 'acarbose_Steady': {'sdtype': 'categorical'}, 'acarbose_Up': {'sdtype': 'categorical'}, 'miglitol_Down': {'sdtype': 'categorical'}, 'miglitol_No': {'sdtype': 'categorical'}, 'miglitol_Steady': {'sdtype': 'categorical'}, 'miglitol_Up': {'sdtype': 'categorical'}, 'troglitazone_Steady': {'sdtype': 'categorical'}, 'tolazamide_No': {'sdtype': 'categorical'}, 'tolazamide_Steady': {'sdtype': 'categorical'}, 'tolazamide_Up': {'sdtype': 'categorical'}, 'examide_No': {'sdtype': 'categorical'}, 'citoglipton_No': {'sdtype': 'categorical'}, 'insulin_Down': {'sdtype': 'categorical'}, 'insulin_No': {'sdtype': 'categorical'}, 'insulin_Steady': {'sdtype': 'categorical'}, 'insulin_Up': {'sdtype': 'categorical'}, 'glyburide-metformin_Down': {'sdtype': 'categorical'}, 'glyburide-metformin_No': {'sdtype': 'categorical'}, 'glyburide-metformin_Steady': {'sdtype': 'categorical'}, 'glyburide-metformin_Up': {'sdtype': 'categorical'}, 'glipizide-metformin_Steady': {'sdtype': 'categorical'}, 'glimepiride-pioglitazone_Steady': {'sdtype': 'categorical'}, 'metformin-rosiglitazone_No': {'sdtype': 'categorical'}, 'metformin-pioglitazone_Steady': {'sdtype': 'categorical'}, 'change_No': {'sdtype': 'categorical'}, 'diabetesMed_Yes': {'sdtype': 'categorical'}}}\n"
     ]
    }
   ],
   "source": [
    "#Use following to view the metadata\n",
    "python_dict = metadata.to_dict()\n",
    "print(python_dict)"
   ]
  },
  {
   "cell_type": "code",
   "execution_count": 8,
   "id": "fb30f7fa",
   "metadata": {},
   "outputs": [
    {
     "name": "stdout",
     "output_type": "stream",
     "text": [
      "Num of rows:  30000 , time:  65.06960082054138\n"
     ]
    }
   ],
   "source": [
    "start_time = time.time()\n",
    "if syndataType == \"ctgan\":\n",
    "    synthesizer = CTGANSynthesizer(metadata)\n",
    "elif syndataType == \"gausscopula\":  \n",
    "    synthesizer = GaussianCopulaSynthesizer(metadata)\n",
    "elif syndataType == \"tvae\":\n",
    "    synthesizer = TVAESynthesizer(metadata)\n",
    "synthesizer.fit(data)\n",
    "end_time = time.time()\n",
    "time_elapsed = end_time - start_time\n",
    "print(\"Num of rows: \", data.shape[0], \", time: \",time_elapsed)"
   ]
  },
  {
   "cell_type": "code",
   "execution_count": 7,
   "id": "fdc21720-0076-4cf4-b150-f8a9d82170a3",
   "metadata": {},
   "outputs": [
    {
     "ename": "NameError",
     "evalue": "name 'synthesizer' is not defined",
     "output_type": "error",
     "traceback": [
      "\u001b[0;31m---------------------------------------------------------------------------\u001b[0m",
      "\u001b[0;31mNameError\u001b[0m                                 Traceback (most recent call last)",
      "Cell \u001b[0;32mIn[7], line 5\u001b[0m\n\u001b[1;32m      3\u001b[0m \u001b[38;5;28;01melse\u001b[39;00m:\n\u001b[1;32m      4\u001b[0m     num_rows \u001b[38;5;241m=\u001b[39m \u001b[38;5;241m900000\u001b[39m\n\u001b[0;32m----> 5\u001b[0m synthetic_data \u001b[38;5;241m=\u001b[39m synthesizer\u001b[38;5;241m.\u001b[39msample(num_rows)\n\u001b[1;32m      6\u001b[0m synthetic_data\u001b[38;5;241m.\u001b[39mhead()\n",
      "\u001b[0;31mNameError\u001b[0m: name 'synthesizer' is not defined"
     ]
    }
   ],
   "source": [
    "if dataset_name != \"hospital\":\n",
    "    num_rows = data.shape[0]\n",
    "else:\n",
    "    num_rows = 900000\n",
    "synthetic_data = synthesizer.sample(num_rows)\n",
    "synthetic_data.head()"
   ]
  },
  {
   "cell_type": "code",
   "execution_count": null,
   "id": "4d5a5c2e",
   "metadata": {},
   "outputs": [],
   "source": [
    "print(synthetic_data.columns)"
   ]
  },
  {
   "cell_type": "code",
   "execution_count": null,
   "id": "401ee6aa",
   "metadata": {},
   "outputs": [],
   "source": [
    "if not bMetdataExists:\n",
    "    metadata.save_to_json(\"../datasets/{0}_metadata.json\".format(dataset_name))\n"
   ]
  },
  {
   "cell_type": "code",
   "execution_count": null,
   "id": "0913d317-df1d-4a73-a945-4ba987ebda64",
   "metadata": {},
   "outputs": [],
   "source": [
    "print(synthetic_data)\n"
   ]
  },
  {
   "cell_type": "code",
   "execution_count": null,
   "id": "96691872-768c-4a29-94df-968ac919c0a4",
   "metadata": {},
   "outputs": [],
   "source": [
    "synthetic_data.to_csv(\"../datasets/{0}_sdv_{1}.csv\".format(dataset_name,syndataType),index=False) #do not write the row index as the first column\n"
   ]
  },
  {
   "cell_type": "code",
   "execution_count": null,
   "id": "5f13f2c6",
   "metadata": {},
   "outputs": [],
   "source": [
    "#The following block is used for running diagnostics on synthetic data"
   ]
  },
  {
   "cell_type": "code",
   "execution_count": null,
   "id": "cd53d945-028e-4d9a-bb8d-468c3aa22091",
   "metadata": {},
   "outputs": [],
   "source": [
    "\n",
    "from sdmetrics.reports.single_table import DiagnosticReport\n",
    "\n",
    "report = DiagnosticReport()"
   ]
  },
  {
   "cell_type": "code",
   "execution_count": null,
   "id": "aab5b31b",
   "metadata": {},
   "outputs": [],
   "source": [
    "synthetic_data = pd.read_csv(\"../datasets/{0}_sdv_{1}.csv\".format(dataset_name,syndataType), sep=',', engine='python', na_values='?')#pandas dataframe containing synthetic data\n",
    "#metadata = #dictionary with formal and types of data\n"
   ]
  },
  {
   "cell_type": "code",
   "execution_count": null,
   "id": "88bb0d08",
   "metadata": {},
   "outputs": [],
   "source": [
    "report.generate(data, synthetic_data, python_dict)"
   ]
  },
  {
   "cell_type": "code",
   "execution_count": null,
   "id": "6194d424",
   "metadata": {},
   "outputs": [],
   "source": [
    "#A floating point value between 0 and 1 that summarizes the quality of your synthetic data\n",
    "report.get_score()\n",
    "#The score should be 100% or very close to it"
   ]
  },
  {
   "cell_type": "code",
   "execution_count": null,
   "id": "b1d00ec5",
   "metadata": {},
   "outputs": [],
   "source": [
    "#Returns: A dictionary that lists each property name and its associated score\n",
    "report.get_properties()"
   ]
  },
  {
   "cell_type": "code",
   "execution_count": null,
   "id": "e335aea8",
   "metadata": {},
   "outputs": [],
   "source": [
    "#A pandas.DataFrame object that returns more details about the property\n",
    "report.get_details(property_name='Data Validity')"
   ]
  },
  {
   "cell_type": "code",
   "execution_count": null,
   "id": "ce993788",
   "metadata": {},
   "outputs": [],
   "source": [
    "#Visualise properties\n",
    "fig = report.get_visualization(property_name='Data Validity')\n",
    "fig.show()"
   ]
  },
  {
   "cell_type": "code",
   "execution_count": null,
   "id": "65655fef",
   "metadata": {},
   "outputs": [],
   "source": [
    "report.save(filepath=\"../datasets/{0}_sdv_{1}_diag_rep.pkl\".format(dataset_name,syndataType))"
   ]
  },
  {
   "cell_type": "code",
   "execution_count": null,
   "id": "425b5e4e",
   "metadata": {},
   "outputs": [],
   "source": [
    "#Loading a presaved report\n",
    "#report = DiagnosticReport.load('results/diagnostic_report.pkl')"
   ]
  }
 ],
 "metadata": {
  "kernelspec": {
   "display_name": "Python 3 (ipykernel)",
   "language": "python",
   "name": "python3"
  },
  "language_info": {
   "codemirror_mode": {
    "name": "ipython",
    "version": 3
   },
   "file_extension": ".py",
   "mimetype": "text/x-python",
   "name": "python",
   "nbconvert_exporter": "python",
   "pygments_lexer": "ipython3",
   "version": "3.11.5"
  }
 },
 "nbformat": 4,
 "nbformat_minor": 5
}
