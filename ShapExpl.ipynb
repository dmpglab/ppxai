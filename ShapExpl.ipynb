{
 "cells": [
  {
   "cell_type": "code",
   "execution_count": null,
   "id": "9cfb1409",
   "metadata": {},
   "outputs": [],
   "source": [
    "#Date: Dec 11, 2024\n",
    "#Author: Sonal Allana\n",
    "#Purpose: To generate SHAP explanations from the models"
   ]
  },
  {
   "cell_type": "code",
   "execution_count": 1,
   "id": "6dda25c1",
   "metadata": {},
   "outputs": [
    {
     "name": "stderr",
     "output_type": "stream",
     "text": [
      "2024-10-06 17:23:25.726151: I tensorflow/core/platform/cpu_feature_guard.cc:182] This TensorFlow binary is optimized to use available CPU instructions in performance-critical operations.\n",
      "To enable the following instructions: AVX2 AVX512F AVX512_VNNI FMA, in other operations, rebuild TensorFlow with the appropriate compiler flags.\n",
      "Using `tqdm.autonotebook.tqdm` in notebook mode. Use `tqdm.tqdm` instead to force console mode (e.g. in jupyter console)\n"
     ]
    }
   ],
   "source": [
    "import numpy as np\n",
    "from numpy import argmax\n",
    "from numpy import loadtxt\n",
    "from numpy import savetxt\n",
    "import tensorflow as tf\n",
    "from sklearn.model_selection import train_test_split\n",
    "import time\n",
    "import shap\n",
    "import os\n",
    "import miattack"
   ]
  },
  {
   "cell_type": "code",
   "execution_count": 2,
   "id": "282d855b",
   "metadata": {},
   "outputs": [],
   "source": [
    "#Options (1) baseline_nn (2) dp_nn (3) syn_nn\n",
    "base_folder = \"dp_nn\"\n",
    "\n",
    "if base_folder == \"dp_nn\":\n",
    "    #Options (1) nm4000 (2) nm500 (3) nm66 (4) nm15\n",
    "    nm_folder = \"nm4000\"   #set the correct noise multiplier\n",
    "elif base_folder == \"syn_nn\":\n",
    "    #Options (1) ctgan (2) gausscopula (3) tvae \n",
    "    syndataType = \"tvae\""
   ]
  },
  {
   "cell_type": "code",
   "execution_count": 3,
   "id": "31c33b70",
   "metadata": {},
   "outputs": [],
   "source": [
    "#Options (1) adult (2) credit (3) compas (4) hospital\n",
    "dataset_name = \"hospital\""
   ]
  },
  {
   "cell_type": "code",
   "execution_count": 4,
   "id": "18eeb71a",
   "metadata": {},
   "outputs": [],
   "source": [
    "#for shap explanations\n",
    "expl = \"shap\"\n",
    "folder = \"shap\""
   ]
  },
  {
   "cell_type": "code",
   "execution_count": 5,
   "id": "130ba5f5",
   "metadata": {},
   "outputs": [
    {
     "name": "stdout",
     "output_type": "stream",
     "text": [
      "Model: \"model\"\n",
      "_________________________________________________________________\n",
      " Layer (type)                Output Shape              Param #   \n",
      "=================================================================\n",
      " input_layer (InputLayer)    [(None, 120)]             0         \n",
      "                                                                 \n",
      " dense1 (Dense)              (None, 1024)              123904    \n",
      "                                                                 \n",
      " dense2 (Dense)              (None, 512)               524800    \n",
      "                                                                 \n",
      " dense3 (Dense)              (None, 256)               131328    \n",
      "                                                                 \n",
      " dense4 (Dense)              (None, 100)               25700     \n",
      "                                                                 \n",
      " dense (Dense)               (None, 1)                 101       \n",
      "                                                                 \n",
      "=================================================================\n",
      "Total params: 805833 (3.07 MB)\n",
      "Trainable params: 805833 (3.07 MB)\n",
      "Non-trainable params: 0 (0.00 Byte)\n",
      "_________________________________________________________________\n"
     ]
    },
    {
     "name": "stderr",
     "output_type": "stream",
     "text": [
      "The default value of `n_init` will change from 10 to 'auto' in 1.4. Set the value of `n_init` explicitly to suppress the warning\n",
      "\n",
      "Found Intel OpenMP ('libiomp') and LLVM OpenMP ('libomp') loaded at\n",
      "the same time. Both libraries are known to be incompatible and this\n",
      "can cause random crashes or deadlocks on Linux when loaded in the\n",
      "same Python program.\n",
      "Using threadpoolctl may cause crashes or deadlocks. For more\n",
      "information and possible workarounds, please see\n",
      "    https://github.com/joblib/threadpoolctl/blob/master/multiple_openmp.md\n",
      "\n"
     ]
    },
    {
     "data": {
      "application/vnd.jupyter.widget-view+json": {
       "model_id": "a0106e579f9f4d648c5f5be36f33513d",
       "version_major": 2,
       "version_minor": 0
      },
      "text/plain": [
       "  0%|          | 0/4925 [00:00<?, ?it/s]"
      ]
     },
     "metadata": {},
     "output_type": "display_data"
    },
    {
     "name": "stdout",
     "output_type": "stream",
     "text": [
      "(1, 4925, 120)\n"
     ]
    },
    {
     "data": {
      "application/vnd.jupyter.widget-view+json": {
       "model_id": "d7f2aab1757f41848cd32336edc2460d",
       "version_major": 2,
       "version_minor": 0
      },
      "text/plain": [
       "  0%|          | 0/4925 [00:00<?, ?it/s]"
      ]
     },
     "metadata": {},
     "output_type": "display_data"
    },
    {
     "name": "stdout",
     "output_type": "stream",
     "text": [
      "(1, 4925, 120)\n",
      "Iteration  1 :\n",
      "Model inversion on sensitive attribute 1: \n",
      "Precision: 0.8953\n",
      "Recall: 0.8593\n",
      "F1-Score: 0.8769\n",
      "FPR: 0.0852\n",
      "Attacker's advantage: 0.7741\n",
      "Attack success: 88.93%\n",
      "\n",
      "Model inversion on sensitive attribute 2: \n",
      "Precision: 0.9989\n",
      "Recall: 0.9907\n",
      "F1-Score: 0.9948\n",
      "FPR: 0.0035\n",
      "Attacker's advantage: 0.9873\n",
      "Attack success: 99.21%\n",
      "Model: \"model_1\"\n",
      "_________________________________________________________________\n",
      " Layer (type)                Output Shape              Param #   \n",
      "=================================================================\n",
      " input_layer (InputLayer)    [(None, 120)]             0         \n",
      "                                                                 \n",
      " dense1 (Dense)              (None, 1024)              123904    \n",
      "                                                                 \n",
      " dense2 (Dense)              (None, 512)               524800    \n",
      "                                                                 \n",
      " dense3 (Dense)              (None, 256)               131328    \n",
      "                                                                 \n",
      " dense4 (Dense)              (None, 100)               25700     \n",
      "                                                                 \n",
      " dense_1 (Dense)             (None, 1)                 101       \n",
      "                                                                 \n",
      "=================================================================\n",
      "Total params: 805833 (3.07 MB)\n",
      "Trainable params: 805833 (3.07 MB)\n",
      "Non-trainable params: 0 (0.00 Byte)\n",
      "_________________________________________________________________\n"
     ]
    },
    {
     "name": "stderr",
     "output_type": "stream",
     "text": [
      "The default value of `n_init` will change from 10 to 'auto' in 1.4. Set the value of `n_init` explicitly to suppress the warning\n"
     ]
    },
    {
     "data": {
      "application/vnd.jupyter.widget-view+json": {
       "model_id": "7f6c1735031b46ce9a27822af353dd94",
       "version_major": 2,
       "version_minor": 0
      },
      "text/plain": [
       "  0%|          | 0/4925 [00:00<?, ?it/s]"
      ]
     },
     "metadata": {},
     "output_type": "display_data"
    },
    {
     "name": "stdout",
     "output_type": "stream",
     "text": [
      "(1, 4925, 120)\n"
     ]
    },
    {
     "data": {
      "application/vnd.jupyter.widget-view+json": {
       "model_id": "143045e30be3448dbf67dd1aee6568fb",
       "version_major": 2,
       "version_minor": 0
      },
      "text/plain": [
       "  0%|          | 0/4925 [00:00<?, ?it/s]"
      ]
     },
     "metadata": {},
     "output_type": "display_data"
    },
    {
     "name": "stdout",
     "output_type": "stream",
     "text": [
      "(1, 4925, 120)\n",
      "Iteration  2 :\n",
      "Model inversion on sensitive attribute 1: \n",
      "Precision: 0.9991\n",
      "Recall: 0.9907\n",
      "F1-Score: 0.9949\n",
      "FPR: 0.0008\n",
      "Attacker's advantage: 0.9900\n",
      "Attack success: 99.53%\n",
      "\n",
      "Model inversion on sensitive attribute 2: \n",
      "Precision: 1.0000\n",
      "Recall: 0.9979\n",
      "F1-Score: 0.9989\n",
      "FPR: 0.0000\n",
      "Attacker's advantage: 0.9979\n",
      "Attack success: 99.84%\n",
      "Model: \"model_2\"\n",
      "_________________________________________________________________\n",
      " Layer (type)                Output Shape              Param #   \n",
      "=================================================================\n",
      " input_layer (InputLayer)    [(None, 120)]             0         \n",
      "                                                                 \n",
      " dense1 (Dense)              (None, 1024)              123904    \n",
      "                                                                 \n",
      " dense2 (Dense)              (None, 512)               524800    \n",
      "                                                                 \n",
      " dense3 (Dense)              (None, 256)               131328    \n",
      "                                                                 \n",
      " dense4 (Dense)              (None, 100)               25700     \n",
      "                                                                 \n",
      " dense_2 (Dense)             (None, 1)                 101       \n",
      "                                                                 \n",
      "=================================================================\n",
      "Total params: 805833 (3.07 MB)\n",
      "Trainable params: 805833 (3.07 MB)\n",
      "Non-trainable params: 0 (0.00 Byte)\n",
      "_________________________________________________________________\n"
     ]
    },
    {
     "name": "stderr",
     "output_type": "stream",
     "text": [
      "The default value of `n_init` will change from 10 to 'auto' in 1.4. Set the value of `n_init` explicitly to suppress the warning\n"
     ]
    },
    {
     "data": {
      "application/vnd.jupyter.widget-view+json": {
       "model_id": "a697d4f62e7c492d9d64b997cf2f8189",
       "version_major": 2,
       "version_minor": 0
      },
      "text/plain": [
       "  0%|          | 0/4925 [00:00<?, ?it/s]"
      ]
     },
     "metadata": {},
     "output_type": "display_data"
    },
    {
     "name": "stdout",
     "output_type": "stream",
     "text": [
      "(1, 4925, 120)\n"
     ]
    },
    {
     "data": {
      "application/vnd.jupyter.widget-view+json": {
       "model_id": "34ff9c45a7a645a9a4a5e8964314e346",
       "version_major": 2,
       "version_minor": 0
      },
      "text/plain": [
       "  0%|          | 0/4925 [00:00<?, ?it/s]"
      ]
     },
     "metadata": {},
     "output_type": "display_data"
    },
    {
     "name": "stdout",
     "output_type": "stream",
     "text": [
      "(1, 4925, 120)\n",
      "Iteration  3 :\n",
      "Model inversion on sensitive attribute 1: \n",
      "Precision: 0.9657\n",
      "Recall: 0.9478\n",
      "F1-Score: 0.9567\n",
      "FPR: 0.0285\n",
      "Attacker's advantage: 0.9193\n",
      "Attack success: 96.06%\n",
      "\n",
      "Model inversion on sensitive attribute 2: \n",
      "Precision: 0.9992\n",
      "Recall: 0.9989\n",
      "F1-Score: 0.9991\n",
      "FPR: 0.0026\n",
      "Attacker's advantage: 0.9963\n",
      "Attack success: 99.86%\n",
      "Model: \"model_3\"\n",
      "_________________________________________________________________\n",
      " Layer (type)                Output Shape              Param #   \n",
      "=================================================================\n",
      " input_layer (InputLayer)    [(None, 120)]             0         \n",
      "                                                                 \n",
      " dense1 (Dense)              (None, 1024)              123904    \n",
      "                                                                 \n",
      " dense2 (Dense)              (None, 512)               524800    \n",
      "                                                                 \n",
      " dense3 (Dense)              (None, 256)               131328    \n",
      "                                                                 \n",
      " dense4 (Dense)              (None, 100)               25700     \n",
      "                                                                 \n",
      " dense_3 (Dense)             (None, 1)                 101       \n",
      "                                                                 \n",
      "=================================================================\n",
      "Total params: 805833 (3.07 MB)\n",
      "Trainable params: 805833 (3.07 MB)\n",
      "Non-trainable params: 0 (0.00 Byte)\n",
      "_________________________________________________________________\n"
     ]
    },
    {
     "name": "stderr",
     "output_type": "stream",
     "text": [
      "The default value of `n_init` will change from 10 to 'auto' in 1.4. Set the value of `n_init` explicitly to suppress the warning\n"
     ]
    },
    {
     "data": {
      "application/vnd.jupyter.widget-view+json": {
       "model_id": "bbf256edc9454d54b83c14144a6c0685",
       "version_major": 2,
       "version_minor": 0
      },
      "text/plain": [
       "  0%|          | 0/4925 [00:00<?, ?it/s]"
      ]
     },
     "metadata": {},
     "output_type": "display_data"
    },
    {
     "name": "stdout",
     "output_type": "stream",
     "text": [
      "(1, 4925, 120)\n"
     ]
    },
    {
     "data": {
      "application/vnd.jupyter.widget-view+json": {
       "model_id": "808c9ff2e5af4ab0bd0ff4ef7d075cfa",
       "version_major": 2,
       "version_minor": 0
      },
      "text/plain": [
       "  0%|          | 0/4925 [00:00<?, ?it/s]"
      ]
     },
     "metadata": {},
     "output_type": "display_data"
    },
    {
     "name": "stdout",
     "output_type": "stream",
     "text": [
      "(1, 4925, 120)\n",
      "Iteration  4 :\n",
      "Model inversion on sensitive attribute 1: \n",
      "Precision: 1.0000\n",
      "Recall: 0.9850\n",
      "F1-Score: 0.9924\n",
      "FPR: 0.0000\n",
      "Attacker's advantage: 0.9850\n",
      "Attack success: 99.31%\n",
      "\n",
      "Model inversion on sensitive attribute 2: \n",
      "Precision: 0.9925\n",
      "Recall: 0.9878\n",
      "F1-Score: 0.9902\n",
      "FPR: 0.0242\n",
      "Attacker's advantage: 0.9636\n",
      "Attack success: 98.50%\n",
      "Model: \"model_4\"\n",
      "_________________________________________________________________\n",
      " Layer (type)                Output Shape              Param #   \n",
      "=================================================================\n",
      " input_layer (InputLayer)    [(None, 120)]             0         \n",
      "                                                                 \n",
      " dense1 (Dense)              (None, 1024)              123904    \n",
      "                                                                 \n",
      " dense2 (Dense)              (None, 512)               524800    \n",
      "                                                                 \n",
      " dense3 (Dense)              (None, 256)               131328    \n",
      "                                                                 \n",
      " dense4 (Dense)              (None, 100)               25700     \n",
      "                                                                 \n",
      " dense_4 (Dense)             (None, 1)                 101       \n",
      "                                                                 \n",
      "=================================================================\n",
      "Total params: 805833 (3.07 MB)\n",
      "Trainable params: 805833 (3.07 MB)\n",
      "Non-trainable params: 0 (0.00 Byte)\n",
      "_________________________________________________________________\n"
     ]
    },
    {
     "name": "stderr",
     "output_type": "stream",
     "text": [
      "The default value of `n_init` will change from 10 to 'auto' in 1.4. Set the value of `n_init` explicitly to suppress the warning\n"
     ]
    },
    {
     "data": {
      "application/vnd.jupyter.widget-view+json": {
       "model_id": "b4f2c5a3577649649e6fe732c5246615",
       "version_major": 2,
       "version_minor": 0
      },
      "text/plain": [
       "  0%|          | 0/4925 [00:00<?, ?it/s]"
      ]
     },
     "metadata": {},
     "output_type": "display_data"
    },
    {
     "name": "stdout",
     "output_type": "stream",
     "text": [
      "(1, 4925, 120)\n"
     ]
    },
    {
     "data": {
      "application/vnd.jupyter.widget-view+json": {
       "model_id": "cd41864a0fde47e08b53110a203d9eb5",
       "version_major": 2,
       "version_minor": 0
      },
      "text/plain": [
       "  0%|          | 0/4925 [00:00<?, ?it/s]"
      ]
     },
     "metadata": {},
     "output_type": "display_data"
    },
    {
     "name": "stdout",
     "output_type": "stream",
     "text": [
      "(1, 4925, 120)\n",
      "Iteration  5 :\n",
      "Model inversion on sensitive attribute 1: \n",
      "Precision: 0.9431\n",
      "Recall: 0.9248\n",
      "F1-Score: 0.9339\n",
      "FPR: 0.0473\n",
      "Attacker's advantage: 0.8775\n",
      "Attack success: 93.99%\n",
      "\n",
      "Model inversion on sensitive attribute 2: \n",
      "Precision: 0.9997\n",
      "Recall: 0.9963\n",
      "F1-Score: 0.9980\n",
      "FPR: 0.0009\n",
      "Attacker's advantage: 0.9954\n",
      "Attack success: 99.70%\n"
     ]
    }
   ],
   "source": [
    "for i in range(1,6):\n",
    "    #Load model and train-test files\n",
    "    if base_folder == \"dp_nn\": #account for noise multiplier folder\n",
    "        basepath = \"../models/{0}/{1}/{2}/iter{3}/\".format(base_folder,dataset_name,nm_folder,i)\n",
    "        fmodel = \"model_dp_iter{0}.keras\".format(i)\n",
    "    elif base_folder == \"syn_nn\": #account for syn type folder\n",
    "        basepath = \"../models/{0}/{1}/{2}/iter{3}/\".format(base_folder,dataset_name,syndataType,i)\n",
    "        fmodel = \"model_wodp_iter{0}.keras\".format(i)\n",
    "    else:\n",
    "        basepath = \"../models/{0}/{1}/iter{2}/\".format(base_folder,dataset_name, i)\n",
    "        fmodel = \"model_wodp_iter{0}.keras\".format(i)\n",
    "    model = tf.keras.models.load_model(basepath + fmodel,compile=False)\n",
    "    model.summary()\n",
    "    X_train = loadtxt(basepath + 'X_train.csv',delimiter=',')\n",
    "    X_test = loadtxt(basepath + 'X_test.csv',delimiter=',')\n",
    "    Y_train = loadtxt(basepath + 'Y_train.csv',delimiter=',')\n",
    "    Y_test = loadtxt(basepath + 'Y_test.csv',delimiter=',')\n",
    "    Z_train = loadtxt(basepath + 'Z_train.csv',delimiter=',')\n",
    "    Z_test = loadtxt(basepath + 'Z_test.csv',delimiter=',')\n",
    "    \n",
    "    #50% of the test set is used for training and remaining 50% for testing the attack model\n",
    "    (X_adv_train, X_adv_test, Y_adv_train, Y_adv_test, Z_adv_train, Z_adv_test)  = train_test_split(X_test, Y_test, Z_test, test_size=0.5, random_state=1337)\n",
    "\n",
    "    input_train = np.array(X_adv_train)\n",
    "    input_test = np.array(X_adv_test)\n",
    "    background_data = shap.kmeans(input_train,5) #5 is the number of clusters\n",
    "    explainer = shap.KernelExplainer(model,data=background_data)\n",
    "    attributions_train = explainer.shap_values(input_train)\n",
    "    print(np.shape(attributions_train))\n",
    "    \n",
    "    attributions_test = explainer.shap_values(input_test)\n",
    "    print(np.shape(attributions_test))\n",
    "    \n",
    "    if not os.path.exists(basepath + folder):\n",
    "        os.mkdir(basepath + folder)\n",
    "    \n",
    "    savetxt(basepath + folder + '/attributions_train.csv',attributions_train[0],delimiter=',')\n",
    "    savetxt(basepath + folder + '/attributions_test.csv',attributions_test[0],delimiter=',')\n",
    "    savetxt(basepath + folder + '/X_adv_train.csv',X_adv_train,delimiter=',')\n",
    "    savetxt(basepath + folder + '/X_adv_test.csv',X_adv_test,delimiter=',')\n",
    "    savetxt(basepath + folder + '/Y_adv_train.csv',Y_adv_train,delimiter=',')\n",
    "    savetxt(basepath + folder + '/Y_adv_test.csv',Y_adv_test,delimiter=',')\n",
    "    savetxt(basepath + folder + '/Z_adv_train.csv',Z_adv_train,delimiter=',')\n",
    "    savetxt(basepath + folder + '/Z_adv_test.csv',Z_adv_test,delimiter=',')\n",
    "    \n",
    "    print(\"Iteration \",i,\":\")\n",
    "    #Attack the first sensitive attribute\n",
    "    print(\"Model inversion on sensitive attribute 1: \")\n",
    "    Z_adv_train_s1 = Z_adv_train[:,0]\n",
    "    Z_adv_test_s1 = Z_adv_test[:,0]\n",
    "    modinv_obj1 = miattack.miattack_explanations(attributions_train[0],attributions_test[0],Z_adv_train_s1,Z_adv_test_s1)\n",
    "    modinv_obj1.printMetrics()\n",
    "    \n",
    "    #Attack the second sensitive attribute\n",
    "    print(\"\\nModel inversion on sensitive attribute 2: \")\n",
    "    Z_adv_train_s2 = Z_adv_train[:,1]\n",
    "    Z_adv_test_s2 = Z_adv_test[:,1]\n",
    "    modinv_obj2 = miattack.miattack_explanations(attributions_train[0],attributions_test[0],Z_adv_train_s2,Z_adv_test_s2)\n",
    "    modinv_obj2.printMetrics()"
   ]
  },
  {
   "cell_type": "code",
   "execution_count": null,
   "id": "7bf35562",
   "metadata": {},
   "outputs": [],
   "source": []
  },
  {
   "cell_type": "code",
   "execution_count": null,
   "id": "48804305",
   "metadata": {},
   "outputs": [],
   "source": []
  }
 ],
 "metadata": {
  "kernelspec": {
   "display_name": "Python 3 (ipykernel)",
   "language": "python",
   "name": "python3"
  },
  "language_info": {
   "codemirror_mode": {
    "name": "ipython",
    "version": 3
   },
   "file_extension": ".py",
   "mimetype": "text/x-python",
   "name": "python",
   "nbconvert_exporter": "python",
   "pygments_lexer": "ipython3",
   "version": "3.11.5"
  }
 },
 "nbformat": 4,
 "nbformat_minor": 5
}
