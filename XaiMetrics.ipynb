{
 "cells": [
  {
   "cell_type": "code",
   "execution_count": null,
   "id": "a9cb0504",
   "metadata": {},
   "outputs": [],
   "source": [
    "#Date: Dec 11, 2024\n",
    "#Author: Sonal Allana\n",
    "#Purpose: To generate XAI metrics (faithfulness) for each explanation type"
   ]
  },
  {
   "cell_type": "code",
   "execution_count": 1,
   "id": "6dda25c1",
   "metadata": {},
   "outputs": [
    {
     "name": "stderr",
     "output_type": "stream",
     "text": [
      "2024-10-29 15:07:38.961261: I tensorflow/core/platform/cpu_feature_guard.cc:182] This TensorFlow binary is optimized to use available CPU instructions in performance-critical operations.\n",
      "To enable the following instructions: AVX2 AVX512F AVX512_VNNI FMA, in other operations, rebuild TensorFlow with the appropriate compiler flags.\n"
     ]
    }
   ],
   "source": [
    "import numpy as np\n",
    "from numpy import loadtxt\n",
    "from numpy import savetxt\n",
    "import tensorflow as tf\n",
    "import os\n",
    "import miattack\n",
    "import xaimetrics"
   ]
  },
  {
   "cell_type": "code",
   "execution_count": 2,
   "id": "c067981a",
   "metadata": {},
   "outputs": [],
   "source": [
    "#Options (1) baseline_nn (2) dp_nn (3) syn_nn\n",
    "base_folder = \"baseline_nn\"\n",
    "\n",
    "if base_folder == \"dp_nn\":\n",
    "    #Options (1) nm4000 (2) nm500 (3) nm66 (4) nm15\n",
    "    nm_folder = \"nm15\"   #set the correct noise multiplier\n",
    "elif base_folder == \"syn_nn\":\n",
    "    #Options (1) ctgan (2) gausscopula (3) tvae \n",
    "    syndataType = \"ctgan\"\n",
    "    "
   ]
  },
  {
   "cell_type": "code",
   "execution_count": 3,
   "id": "a2f8ee66",
   "metadata": {},
   "outputs": [],
   "source": [
    "#Options (1) adult (2) credit (3) compas (4) hospital\n",
    "dataset_name = \"hospital\"\n"
   ]
  },
  {
   "cell_type": "code",
   "execution_count": 4,
   "id": "9881dd1e",
   "metadata": {},
   "outputs": [],
   "source": [
    "#Uncomment for integrated gradient\n",
    "#expl = \"integrated_gradients\"\n",
    "#expl_folder = \"ig\"\n",
    "#end integrated gradient\n",
    "\n",
    "#Uncomment for smoothgrad\n",
    "#expl = \"smoothgrad\"\n",
    "#expl_folder = \"sg\"\n",
    "#end smoothgrad\n",
    "\n",
    "#Uncomment for shap\n",
    "expl = \"shap\"\n",
    "expl_folder = \"shap\"\n",
    "#end shap\n",
    "\n",
    "#Uncomment for lime\n",
    "#expl = \"lime\"\n",
    "#expl_folder = \"lime\"\n",
    "#end lime"
   ]
  },
  {
   "cell_type": "code",
   "execution_count": 5,
   "id": "1e969e87",
   "metadata": {},
   "outputs": [],
   "source": [
    "bpostmodel = True #Options (1) True (2) False (False for pre-model and in-model)\n",
    "postmodelType = \"dp_laplace\" #Options (1) rand_laplace (2) rand_gaussian (3) dp_laplace (4) dp_gaussian (applicable for only post-model)\n"
   ]
  },
  {
   "cell_type": "code",
   "execution_count": 6,
   "id": "130ba5f5",
   "metadata": {},
   "outputs": [
    {
     "name": "stdout",
     "output_type": "stream",
     "text": [
      "Model: \"model_2\"\n",
      "_________________________________________________________________\n",
      " Layer (type)                Output Shape              Param #   \n",
      "=================================================================\n",
      " input_layer (InputLayer)    [(None, 120)]             0         \n",
      "                                                                 \n",
      " dense1 (Dense)              (None, 1024)              123904    \n",
      "                                                                 \n",
      " dense2 (Dense)              (None, 512)               524800    \n",
      "                                                                 \n",
      " dense3 (Dense)              (None, 256)               131328    \n",
      "                                                                 \n",
      " dense4 (Dense)              (None, 100)               25700     \n",
      "                                                                 \n",
      " dense_2 (Dense)             (None, 1)                 101       \n",
      "                                                                 \n",
      "=================================================================\n",
      "Total params: 805833 (3.07 MB)\n",
      "Trainable params: 805833 (3.07 MB)\n",
      "Non-trainable params: 0 (0.00 Byte)\n",
      "_________________________________________________________________\n",
      "Iteration  3 :\n"
     ]
    },
    {
     "data": {
      "application/vnd.jupyter.widget-view+json": {
       "model_id": "10a7e7229f144107958b1c559821f7ac",
       "version_major": 2,
       "version_minor": 0
      },
      "text/plain": [
       "  0%|          | 0/2.0 [00:00<?, ?it/s]"
      ]
     },
     "metadata": {},
     "output_type": "display_data"
    },
    {
     "name": "stdout",
     "output_type": "stream",
     "text": [
      "Faithfulness Correlation - aggregate score:  [-0.007900072997766502]\n"
     ]
    },
    {
     "data": {
      "application/vnd.jupyter.widget-view+json": {
       "model_id": "43254474f72c4a62a4415109f914998a",
       "version_major": 2,
       "version_minor": 0
      },
      "text/plain": [
       "  0%|          | 0/2.0 [00:00<?, ?it/s]"
      ]
     },
     "metadata": {},
     "output_type": "display_data"
    },
    {
     "name": "stdout",
     "output_type": "stream",
     "text": [
      "Faithfulness Estimate - aggregate score:  [0.007453125558784804]\n"
     ]
    },
    {
     "data": {
      "application/vnd.jupyter.widget-view+json": {
       "model_id": "f2e3a095241642c7bd45fbbb2d368ea9",
       "version_major": 2,
       "version_minor": 0
      },
      "text/plain": [
       "  0%|          | 0/2.0 [00:00<?, ?it/s]"
      ]
     },
     "metadata": {},
     "output_type": "display_data"
    },
    {
     "name": "stdout",
     "output_type": "stream",
     "text": [
      "Sufficiency - aggregate score:  [0.328125]\n"
     ]
    }
   ],
   "source": [
    "for i in range(3,4):\n",
    "    #Load train-test files\n",
    "    if base_folder == \"dp_nn\": #account for noise multiplier folder\n",
    "        basepath = \"../models/{0}/{1}/{2}/iter{3}/\".format(base_folder,dataset_name,nm_folder,i)\n",
    "        explpath = \"../models/{0}/{1}/{2}/iter{3}/\".format(base_folder,dataset_name,nm_folder,i)\n",
    "        #For inmodel, explanations are compared with baseline (Non-DP) model \n",
    "        modelpath = \"../models/baseline_nn/{0}/iter{1}/\".format(dataset_name, i)\n",
    "    elif base_folder == \"syn_nn\": #account for syn type folder\n",
    "        basepath = \"../models/{0}/{1}/{2}/iter{3}/\".format(base_folder,dataset_name,syndataType,i)\n",
    "        explpath = \"../models/{0}/{1}/{2}/iter{3}/\".format(base_folder,dataset_name,syndataType,i)\n",
    "        #For premodel, explanations are compared with baseline (Non-DP) model \n",
    "        modelpath = \"../models/baseline_nn/{0}/iter{1}/\".format(dataset_name, i)\n",
    "    else:\n",
    "        basepath = \"../models/{0}/{1}/iter{2}/\".format(base_folder,dataset_name, i)\n",
    "        explpath = \"../models/{0}/{1}/iter{2}/\".format(base_folder,dataset_name,i)\n",
    "        modelpath = basepath\n",
    "    \n",
    "    fmodel = \"model_wodp_iter{0}.keras\".format(i)\n",
    "    model = tf.keras.models.load_model(modelpath + fmodel,compile=False)\n",
    "    model.summary()\n",
    "\n",
    "    X_adv_train = loadtxt(explpath + expl_folder + '/X_adv_train.csv',delimiter=',')\n",
    "    X_adv_test = loadtxt(explpath + expl_folder + '/X_adv_test.csv',delimiter=',')\n",
    "    Y_adv_train = loadtxt(explpath + expl_folder + '/Y_adv_train.csv',delimiter=',')\n",
    "    Y_adv_test = loadtxt(explpath + expl_folder + '/Y_adv_test.csv',delimiter=',')\n",
    "    Z_adv_train = loadtxt(explpath + expl_folder + '/Z_adv_train.csv',delimiter=',')\n",
    "    Z_adv_test = loadtxt(explpath + expl_folder + '/Z_adv_test.csv',delimiter=',')\n",
    "    \n",
    "    if not bpostmodel:\n",
    "        attributions_train = loadtxt(explpath + expl_folder + '/attributions_train.csv',delimiter=',')\n",
    "        attributions_test = loadtxt(explpath + expl_folder + '/attributions_test.csv',delimiter=',')\n",
    "    else:\n",
    "        expl_train_fname = '/attrs_train_{0}.csv'.format(postmodelType)\n",
    "        expl_test_fname = '/attrs_test_{0}.csv'.format(postmodelType)\n",
    "        attributions_train = loadtxt(explpath + expl_folder + expl_train_fname,delimiter=',')\n",
    "        attributions_test = loadtxt(explpath + expl_folder + expl_test_fname,delimiter=',')\n",
    "    \n",
    "    print(\"Iteration \",i,\":\")\n",
    "    samples = xaimetrics.getSamples(X_adv_test)\n",
    "    x_batch_samples = X_adv_test[samples, :]\n",
    "    y_batch_samples = Y_adv_test[samples]\n",
    "    a_batch_samples = attributions_test[samples, :]\n",
    "   \n",
    "    xaiobj = xaimetrics.xai_metrics()\n",
    "    xaiobj.calculateXaiMetrics(model,x_batch_samples,y_batch_samples,a_batch_samples)\n",
    "    "
   ]
  },
  {
   "cell_type": "code",
   "execution_count": null,
   "id": "fc90ac05",
   "metadata": {},
   "outputs": [],
   "source": []
  },
  {
   "cell_type": "code",
   "execution_count": null,
   "id": "14ad5da2",
   "metadata": {},
   "outputs": [],
   "source": []
  }
 ],
 "metadata": {
  "kernelspec": {
   "display_name": "Python 3 (ipykernel)",
   "language": "python",
   "name": "python3"
  },
  "language_info": {
   "codemirror_mode": {
    "name": "ipython",
    "version": 3
   },
   "file_extension": ".py",
   "mimetype": "text/x-python",
   "name": "python",
   "nbconvert_exporter": "python",
   "pygments_lexer": "ipython3",
   "version": "3.11.5"
  }
 },
 "nbformat": 4,
 "nbformat_minor": 5
}
